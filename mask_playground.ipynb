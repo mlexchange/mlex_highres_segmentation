{
 "cells": [
  {
   "cell_type": "code",
   "execution_count": 1,
   "metadata": {},
   "outputs": [
    {
     "data": {
      "application/vnd.plotly.v1+json": {
       "config": {
        "plotlyServerURL": "https://plot.ly"
       },
       "data": [
        {
         "hovertemplate": "x=%{x}<br>y=%{y}<extra></extra>",
         "legendgroup": "",
         "marker": {
          "color": "#636efa",
          "symbol": "circle"
         },
         "mode": "markers",
         "name": "",
         "orientation": "v",
         "showlegend": false,
         "type": "scatter",
         "x": [
          1,
          2,
          3,
          4,
          5
         ],
         "xaxis": "x",
         "y": [
          10,
          8,
          6,
          4,
          2
         ],
         "yaxis": "y"
        }
       ],
       "layout": {
        "clickmode": "event+select",
        "legend": {
         "tracegroupgap": 0
        },
        "margin": {
         "t": 60
        },
        "template": {
         "data": {
          "bar": [
           {
            "error_x": {
             "color": "#2a3f5f"
            },
            "error_y": {
             "color": "#2a3f5f"
            },
            "marker": {
             "line": {
              "color": "#E5ECF6",
              "width": 0.5
             },
             "pattern": {
              "fillmode": "overlay",
              "size": 10,
              "solidity": 0.2
             }
            },
            "type": "bar"
           }
          ],
          "barpolar": [
           {
            "marker": {
             "line": {
              "color": "#E5ECF6",
              "width": 0.5
             },
             "pattern": {
              "fillmode": "overlay",
              "size": 10,
              "solidity": 0.2
             }
            },
            "type": "barpolar"
           }
          ],
          "carpet": [
           {
            "aaxis": {
             "endlinecolor": "#2a3f5f",
             "gridcolor": "white",
             "linecolor": "white",
             "minorgridcolor": "white",
             "startlinecolor": "#2a3f5f"
            },
            "baxis": {
             "endlinecolor": "#2a3f5f",
             "gridcolor": "white",
             "linecolor": "white",
             "minorgridcolor": "white",
             "startlinecolor": "#2a3f5f"
            },
            "type": "carpet"
           }
          ],
          "choropleth": [
           {
            "colorbar": {
             "outlinewidth": 0,
             "ticks": ""
            },
            "type": "choropleth"
           }
          ],
          "contour": [
           {
            "colorbar": {
             "outlinewidth": 0,
             "ticks": ""
            },
            "colorscale": [
             [
              0,
              "#0d0887"
             ],
             [
              0.1111111111111111,
              "#46039f"
             ],
             [
              0.2222222222222222,
              "#7201a8"
             ],
             [
              0.3333333333333333,
              "#9c179e"
             ],
             [
              0.4444444444444444,
              "#bd3786"
             ],
             [
              0.5555555555555556,
              "#d8576b"
             ],
             [
              0.6666666666666666,
              "#ed7953"
             ],
             [
              0.7777777777777778,
              "#fb9f3a"
             ],
             [
              0.8888888888888888,
              "#fdca26"
             ],
             [
              1,
              "#f0f921"
             ]
            ],
            "type": "contour"
           }
          ],
          "contourcarpet": [
           {
            "colorbar": {
             "outlinewidth": 0,
             "ticks": ""
            },
            "type": "contourcarpet"
           }
          ],
          "heatmap": [
           {
            "colorbar": {
             "outlinewidth": 0,
             "ticks": ""
            },
            "colorscale": [
             [
              0,
              "#0d0887"
             ],
             [
              0.1111111111111111,
              "#46039f"
             ],
             [
              0.2222222222222222,
              "#7201a8"
             ],
             [
              0.3333333333333333,
              "#9c179e"
             ],
             [
              0.4444444444444444,
              "#bd3786"
             ],
             [
              0.5555555555555556,
              "#d8576b"
             ],
             [
              0.6666666666666666,
              "#ed7953"
             ],
             [
              0.7777777777777778,
              "#fb9f3a"
             ],
             [
              0.8888888888888888,
              "#fdca26"
             ],
             [
              1,
              "#f0f921"
             ]
            ],
            "type": "heatmap"
           }
          ],
          "heatmapgl": [
           {
            "colorbar": {
             "outlinewidth": 0,
             "ticks": ""
            },
            "colorscale": [
             [
              0,
              "#0d0887"
             ],
             [
              0.1111111111111111,
              "#46039f"
             ],
             [
              0.2222222222222222,
              "#7201a8"
             ],
             [
              0.3333333333333333,
              "#9c179e"
             ],
             [
              0.4444444444444444,
              "#bd3786"
             ],
             [
              0.5555555555555556,
              "#d8576b"
             ],
             [
              0.6666666666666666,
              "#ed7953"
             ],
             [
              0.7777777777777778,
              "#fb9f3a"
             ],
             [
              0.8888888888888888,
              "#fdca26"
             ],
             [
              1,
              "#f0f921"
             ]
            ],
            "type": "heatmapgl"
           }
          ],
          "histogram": [
           {
            "marker": {
             "pattern": {
              "fillmode": "overlay",
              "size": 10,
              "solidity": 0.2
             }
            },
            "type": "histogram"
           }
          ],
          "histogram2d": [
           {
            "colorbar": {
             "outlinewidth": 0,
             "ticks": ""
            },
            "colorscale": [
             [
              0,
              "#0d0887"
             ],
             [
              0.1111111111111111,
              "#46039f"
             ],
             [
              0.2222222222222222,
              "#7201a8"
             ],
             [
              0.3333333333333333,
              "#9c179e"
             ],
             [
              0.4444444444444444,
              "#bd3786"
             ],
             [
              0.5555555555555556,
              "#d8576b"
             ],
             [
              0.6666666666666666,
              "#ed7953"
             ],
             [
              0.7777777777777778,
              "#fb9f3a"
             ],
             [
              0.8888888888888888,
              "#fdca26"
             ],
             [
              1,
              "#f0f921"
             ]
            ],
            "type": "histogram2d"
           }
          ],
          "histogram2dcontour": [
           {
            "colorbar": {
             "outlinewidth": 0,
             "ticks": ""
            },
            "colorscale": [
             [
              0,
              "#0d0887"
             ],
             [
              0.1111111111111111,
              "#46039f"
             ],
             [
              0.2222222222222222,
              "#7201a8"
             ],
             [
              0.3333333333333333,
              "#9c179e"
             ],
             [
              0.4444444444444444,
              "#bd3786"
             ],
             [
              0.5555555555555556,
              "#d8576b"
             ],
             [
              0.6666666666666666,
              "#ed7953"
             ],
             [
              0.7777777777777778,
              "#fb9f3a"
             ],
             [
              0.8888888888888888,
              "#fdca26"
             ],
             [
              1,
              "#f0f921"
             ]
            ],
            "type": "histogram2dcontour"
           }
          ],
          "mesh3d": [
           {
            "colorbar": {
             "outlinewidth": 0,
             "ticks": ""
            },
            "type": "mesh3d"
           }
          ],
          "parcoords": [
           {
            "line": {
             "colorbar": {
              "outlinewidth": 0,
              "ticks": ""
             }
            },
            "type": "parcoords"
           }
          ],
          "pie": [
           {
            "automargin": true,
            "type": "pie"
           }
          ],
          "scatter": [
           {
            "fillpattern": {
             "fillmode": "overlay",
             "size": 10,
             "solidity": 0.2
            },
            "type": "scatter"
           }
          ],
          "scatter3d": [
           {
            "line": {
             "colorbar": {
              "outlinewidth": 0,
              "ticks": ""
             }
            },
            "marker": {
             "colorbar": {
              "outlinewidth": 0,
              "ticks": ""
             }
            },
            "type": "scatter3d"
           }
          ],
          "scattercarpet": [
           {
            "marker": {
             "colorbar": {
              "outlinewidth": 0,
              "ticks": ""
             }
            },
            "type": "scattercarpet"
           }
          ],
          "scattergeo": [
           {
            "marker": {
             "colorbar": {
              "outlinewidth": 0,
              "ticks": ""
             }
            },
            "type": "scattergeo"
           }
          ],
          "scattergl": [
           {
            "marker": {
             "colorbar": {
              "outlinewidth": 0,
              "ticks": ""
             }
            },
            "type": "scattergl"
           }
          ],
          "scattermapbox": [
           {
            "marker": {
             "colorbar": {
              "outlinewidth": 0,
              "ticks": ""
             }
            },
            "type": "scattermapbox"
           }
          ],
          "scatterpolar": [
           {
            "marker": {
             "colorbar": {
              "outlinewidth": 0,
              "ticks": ""
             }
            },
            "type": "scatterpolar"
           }
          ],
          "scatterpolargl": [
           {
            "marker": {
             "colorbar": {
              "outlinewidth": 0,
              "ticks": ""
             }
            },
            "type": "scatterpolargl"
           }
          ],
          "scatterternary": [
           {
            "marker": {
             "colorbar": {
              "outlinewidth": 0,
              "ticks": ""
             }
            },
            "type": "scatterternary"
           }
          ],
          "surface": [
           {
            "colorbar": {
             "outlinewidth": 0,
             "ticks": ""
            },
            "colorscale": [
             [
              0,
              "#0d0887"
             ],
             [
              0.1111111111111111,
              "#46039f"
             ],
             [
              0.2222222222222222,
              "#7201a8"
             ],
             [
              0.3333333333333333,
              "#9c179e"
             ],
             [
              0.4444444444444444,
              "#bd3786"
             ],
             [
              0.5555555555555556,
              "#d8576b"
             ],
             [
              0.6666666666666666,
              "#ed7953"
             ],
             [
              0.7777777777777778,
              "#fb9f3a"
             ],
             [
              0.8888888888888888,
              "#fdca26"
             ],
             [
              1,
              "#f0f921"
             ]
            ],
            "type": "surface"
           }
          ],
          "table": [
           {
            "cells": {
             "fill": {
              "color": "#EBF0F8"
             },
             "line": {
              "color": "white"
             }
            },
            "header": {
             "fill": {
              "color": "#C8D4E3"
             },
             "line": {
              "color": "white"
             }
            },
            "type": "table"
           }
          ]
         },
         "layout": {
          "annotationdefaults": {
           "arrowcolor": "#2a3f5f",
           "arrowhead": 0,
           "arrowwidth": 1
          },
          "autotypenumbers": "strict",
          "coloraxis": {
           "colorbar": {
            "outlinewidth": 0,
            "ticks": ""
           }
          },
          "colorscale": {
           "diverging": [
            [
             0,
             "#8e0152"
            ],
            [
             0.1,
             "#c51b7d"
            ],
            [
             0.2,
             "#de77ae"
            ],
            [
             0.3,
             "#f1b6da"
            ],
            [
             0.4,
             "#fde0ef"
            ],
            [
             0.5,
             "#f7f7f7"
            ],
            [
             0.6,
             "#e6f5d0"
            ],
            [
             0.7,
             "#b8e186"
            ],
            [
             0.8,
             "#7fbc41"
            ],
            [
             0.9,
             "#4d9221"
            ],
            [
             1,
             "#276419"
            ]
           ],
           "sequential": [
            [
             0,
             "#0d0887"
            ],
            [
             0.1111111111111111,
             "#46039f"
            ],
            [
             0.2222222222222222,
             "#7201a8"
            ],
            [
             0.3333333333333333,
             "#9c179e"
            ],
            [
             0.4444444444444444,
             "#bd3786"
            ],
            [
             0.5555555555555556,
             "#d8576b"
            ],
            [
             0.6666666666666666,
             "#ed7953"
            ],
            [
             0.7777777777777778,
             "#fb9f3a"
            ],
            [
             0.8888888888888888,
             "#fdca26"
            ],
            [
             1,
             "#f0f921"
            ]
           ],
           "sequentialminus": [
            [
             0,
             "#0d0887"
            ],
            [
             0.1111111111111111,
             "#46039f"
            ],
            [
             0.2222222222222222,
             "#7201a8"
            ],
            [
             0.3333333333333333,
             "#9c179e"
            ],
            [
             0.4444444444444444,
             "#bd3786"
            ],
            [
             0.5555555555555556,
             "#d8576b"
            ],
            [
             0.6666666666666666,
             "#ed7953"
            ],
            [
             0.7777777777777778,
             "#fb9f3a"
            ],
            [
             0.8888888888888888,
             "#fdca26"
            ],
            [
             1,
             "#f0f921"
            ]
           ]
          },
          "colorway": [
           "#636efa",
           "#EF553B",
           "#00cc96",
           "#ab63fa",
           "#FFA15A",
           "#19d3f3",
           "#FF6692",
           "#B6E880",
           "#FF97FF",
           "#FECB52"
          ],
          "font": {
           "color": "#2a3f5f"
          },
          "geo": {
           "bgcolor": "white",
           "lakecolor": "white",
           "landcolor": "#E5ECF6",
           "showlakes": true,
           "showland": true,
           "subunitcolor": "white"
          },
          "hoverlabel": {
           "align": "left"
          },
          "hovermode": "closest",
          "mapbox": {
           "style": "light"
          },
          "paper_bgcolor": "white",
          "plot_bgcolor": "#E5ECF6",
          "polar": {
           "angularaxis": {
            "gridcolor": "white",
            "linecolor": "white",
            "ticks": ""
           },
           "bgcolor": "#E5ECF6",
           "radialaxis": {
            "gridcolor": "white",
            "linecolor": "white",
            "ticks": ""
           }
          },
          "scene": {
           "xaxis": {
            "backgroundcolor": "#E5ECF6",
            "gridcolor": "white",
            "gridwidth": 2,
            "linecolor": "white",
            "showbackground": true,
            "ticks": "",
            "zerolinecolor": "white"
           },
           "yaxis": {
            "backgroundcolor": "#E5ECF6",
            "gridcolor": "white",
            "gridwidth": 2,
            "linecolor": "white",
            "showbackground": true,
            "ticks": "",
            "zerolinecolor": "white"
           },
           "zaxis": {
            "backgroundcolor": "#E5ECF6",
            "gridcolor": "white",
            "gridwidth": 2,
            "linecolor": "white",
            "showbackground": true,
            "ticks": "",
            "zerolinecolor": "white"
           }
          },
          "shapedefaults": {
           "line": {
            "color": "#2a3f5f"
           }
          },
          "ternary": {
           "aaxis": {
            "gridcolor": "white",
            "linecolor": "white",
            "ticks": ""
           },
           "baxis": {
            "gridcolor": "white",
            "linecolor": "white",
            "ticks": ""
           },
           "bgcolor": "#E5ECF6",
           "caxis": {
            "gridcolor": "white",
            "linecolor": "white",
            "ticks": ""
           }
          },
          "title": {
           "x": 0.05
          },
          "xaxis": {
           "automargin": true,
           "gridcolor": "white",
           "linecolor": "white",
           "ticks": "",
           "title": {
            "standoff": 15
           },
           "zerolinecolor": "white",
           "zerolinewidth": 2
          },
          "yaxis": {
           "automargin": true,
           "gridcolor": "white",
           "linecolor": "white",
           "ticks": "",
           "title": {
            "standoff": 15
           },
           "zerolinecolor": "white",
           "zerolinewidth": 2
          }
         }
        },
        "uirevision": "locked",
        "xaxis": {
         "anchor": "y",
         "domain": [
          0,
          1
         ],
         "title": {
          "text": "x"
         }
        },
        "yaxis": {
         "anchor": "x",
         "domain": [
          0,
          1
         ],
         "title": {
          "text": "y"
         }
        }
       }
      }
     },
     "metadata": {},
     "output_type": "display_data"
    }
   ],
   "source": [
    "import plotly.express as px\n",
    "\n",
    "# Create a sample scatter plot\n",
    "fig = px.scatter(x=[1, 2, 3, 4, 5], y=[10, 8, 6, 4, 2])\n",
    "\n",
    "# Update the config to disable the double-click reset\n",
    "fig.update_layout(\n",
    "    {\n",
    "        \"doubleClick\": \"false\"\n",
    "    }\n",
    ")\n",
    "\n",
    "# Show the plot\n",
    "fig.show()\n"
   ]
  },
  {
   "cell_type": "code",
   "execution_count": 12,
   "metadata": {},
   "outputs": [
    {
     "data": {
      "image/png": "[encoded data removed]",
      "text/plain": [
       "<Figure size 640x480 with 1 Axes>"
      ]
     },
     "metadata": {},
     "output_type": "display_data"
    }
   ],
   "source": [
    "import numpy as np\n",
    "from skimage import draw\n",
    "import math\n",
    "\n",
    "def ellipse_to_array(svg_data, image_width, image_height, mask_class):\n",
    "    x0 = svg_data['x0']\n",
    "    y0 = svg_data['y0']\n",
    "    x1 = svg_data['x1']\n",
    "    y1 = svg_data['y1']\n",
    "    \n",
    "    # Calculate the radius of the circle (r)\n",
    "    r = math.sqrt((x1 - x0)**2 + (y1 - y0)**2)\n",
    "    \n",
    "    # Calculate the radius in x-direction (r_radius)\n",
    "    r_radius = abs(x1 - x0)\n",
    "    \n",
    "    # Calculate the radius in y-direction (c_radius)\n",
    "    c_radius = abs(y1 - y0)\n",
    "    \n",
    "    # Center of the circle (cx, cy)\n",
    "    cx = x0\n",
    "    cy = y0\n",
    "    \n",
    "    # Adjust center coordinates to fit within the image bounds\n",
    "    cx = max(min(int(cx), image_width - 1), 0)\n",
    "    cy = max(min(int(cy), image_height - 1), 0)\n",
    "    \n",
    "    r, cx, cy, r_radius, c_radius = int(r), cx, cy, int(r_radius), int(c_radius)\n",
    "\n",
    "    # Scale the radius if needed to fit within the image bounds\n",
    "    max_radius = min(cx, cy, image_width - cx, image_height - cy)\n",
    "    r_radius = min(r_radius, max_radius)\n",
    "    c_radius = min(c_radius, max_radius)\n",
    "\n",
    "    # Create the image and draw the circle\n",
    "    mask = np.zeros((image_width, image_height), dtype=np.uint8)\n",
    "    rr, cc = draw.ellipse(cy, cx, r_radius, c_radius)\n",
    "    \n",
    "    # Ensure indices are within valid image bounds\n",
    "    rr = np.clip(rr, 0, image_height-1)\n",
    "    cc = np.clip(cc, 0, image_width-1)\n",
    "    \n",
    "    mask[rr, cc] = mask_class\n",
    "    return mask\n",
    "\n",
    "svg_data = {\n",
    "    'x0': 1077.399659846864,\n",
    "    'y0': 1601.2293663808737,\n",
    "    'x1': 540.1809853144262,\n",
    "    'y1': 24.60934329654583\n",
    "}\n",
    "image_width, image_height = 2560, 2560\n",
    "mask_class = 1\n",
    "\n",
    "mask = ellipse_to_array(svg_data, image_width, image_height, mask_class)\n",
    "\n",
    "# Display the image\n",
    "import matplotlib.pyplot as plt\n",
    "plt.imshow(mask, cmap='gray')\n",
    "plt.show()"
   ]
  },
  {
   "cell_type": "code",
   "execution_count": 2,
   "metadata": {},
   "outputs": [
    {
     "data": {
      "image/png": "[encoded data removed]",
      "text/plain": [
       "<Figure size 640x480 with 1 Axes>"
      ]
     },
     "metadata": {},
     "output_type": "display_data"
    }
   ],
   "source": [
    "import numpy as np\n",
    "from skimage import draw\n",
    "\n",
    "def rectangle_to_array(svg_data, image_width, image_height, mask_class):\n",
    "    x0 = svg_data['x0']\n",
    "    y0 = svg_data['y0']\n",
    "    x1 = svg_data['x1']\n",
    "    y1 = svg_data['y1']\n",
    "    \n",
    "    # Adjust coordinates to fit within the image bounds\n",
    "    x0 = max(min(x0, image_width - 1), 0)\n",
    "    y0 = max(min(y0, image_height - 1), 0)\n",
    "    x1 = max(min(x1, image_width - 1), 0)\n",
    "    y1 = max(min(y1, image_height - 1), 0)\n",
    "    \n",
    "    # # Draw the rectangle\n",
    "    mask = np.zeros((image_width, image_height), dtype=np.uint8)\n",
    "    rr, cc = draw.rectangle(start=(y0, x0), end=(y1, x1))\n",
    "    \n",
    "    # Convert coordinates to integers\n",
    "    rr = np.round(rr).astype(int)\n",
    "    cc = np.round(cc).astype(int)\n",
    "\n",
    "    mask[rr, cc] = mask_class\n",
    "    return mask\n",
    "\n",
    "svg_data = {\n",
    "    'x0': 461.9516129032258,\n",
    "    'y0': 755.1129032258065,\n",
    "    'x1': 1572.6612903225807,\n",
    "    'y1': 1680.016129032258\n",
    "}\n",
    "image_width, image_height = 2560, 2560\n",
    "mask_class = 1\n",
    "sparse = False\n",
    "\n",
    "mask = rectangle_to_array(svg_data, image_width, image_height, mask_class)\n",
    "\n",
    "# Display the image\n",
    "import matplotlib.pyplot as plt\n",
    "plt.imshow(mask, cmap='gray')\n",
    "plt.show()"
   ]
  },
  {
   "cell_type": "code",
   "execution_count": 3,
   "metadata": {},
   "outputs": [
    {
     "data": {
      "image/png": "[encoded data removed]",
      "text/plain": [
       "<Figure size 640x480 with 1 Axes>"
      ]
     },
     "metadata": {},
     "output_type": "display_data"
    }
   ],
   "source": [
    "import numpy as np\n",
    "from skimage import draw\n",
    "\n",
    "def line_to_array(svg_data, image_width, image_height, mask_class):\n",
    "    x0 = svg_data['x0']\n",
    "    y0 = svg_data['y0']\n",
    "    x1 = svg_data['x1']\n",
    "    y1 = svg_data['y1']\n",
    "    \n",
    "    # Adjust coordinates to fit within the image bounds\n",
    "    x0 = max(min(int(x0), image_width - 1), 0)\n",
    "    y0 = max(min(int(y0), image_height - 1), 0)\n",
    "    x1 = max(min(int(x1), image_width - 1), 0)\n",
    "    y1 = max(min(int(y1), image_height - 1), 0)\n",
    "    \n",
    "    mask = np.zeros((image_width, image_height), dtype=np.uint8)\n",
    "    rr, cc = draw.line(y0, x0, y1, x1)\n",
    "    mask[rr, cc] = mask_class\n",
    "    return mask\n",
    "\n",
    "\n",
    "svg_data = {\n",
    "    'x0': 755.1129032258065,\n",
    "    'y0': 445.43548387096774,\n",
    "    'x1': 2039.241935483871,\n",
    "    'y1': 2014.467741935484\n",
    "}\n",
    "image_width, image_height = 2560, 2560\n",
    "mask_class = 1\n",
    "\n",
    "mask = line_to_array(svg_data, image_width, image_height, mask_class)\n",
    "np.save('test.npy', mask)\n",
    "\n",
    "# Display the image\n",
    "import matplotlib.pyplot as plt\n",
    "plt.imshow(mask, cmap='gray')\n",
    "plt.show()\n"
   ]
  },
  {
   "cell_type": "code",
   "execution_count": 4,
   "metadata": {},
   "outputs": [
    {
     "data": {
      "image/png": "[encoded data removed]",
      "text/plain": [
       "<Figure size 640x480 with 1 Axes>"
      ]
     },
     "metadata": {},
     "output_type": "display_data"
    }
   ],
   "source": [
    "import numpy as np\n",
    "from svgpathtools import parse_path\n",
    "import matplotlib.pyplot as plt\n",
    "from matplotlib.path import Path\n",
    "\n",
    "svg_data = {\n",
    "    'path': 'M821.1774193548387,1184.532258064516L833.5645161290323,1073.0483870967741L878.983870967742,990.4677419354839L965.6935483870968,899.6290322580645L1097.8225806451612,817.0483870967741L1271.241935483871,767.5L1424.016129032258,759.241935483871L1514.8548387096773,792.2741935483871L1560.274193548387,837.6935483870968L1646.983870967742,1019.3709677419355L1766.725806451613,1415.758064516129L1820.4032258064517,1675.8870967741937L1816.274193548387,1803.8870967741937L1791.5,1832.7903225806451L1684.1451612903227,1857.5645161290322L1506.5967741935483,1865.8225806451612L1060.6612903225807,1861.6935483870968L870.7258064516129,1841.0483870967741L779.8870967741935,1808.016129032258L713.8225806451613,1766.725806451613L643.6290322580645,1675.8870967741937L676.6612903225806,1568.532258064516L713.8225806451613,1531.3709677419354L878.983870967742,1494.2096774193549L1110.2096774193549,1494.2096774193549L1151.5,1469.4354838709678L1242.3387096774193,1357.9516129032259L1390.983870967742,1242.3387096774193L1395.1129032258063,1217.5645161290322Z'\n",
    "}\n",
    "image_width, image_height = 2560, 2560\n",
    "mask_class = 1\n",
    "\n",
    "\n",
    "def closed_path_to_array(svg_data, image_width, image_height, mask_class):\n",
    "    # Parse the SVG path from the input string\n",
    "    path = parse_path(svg_data[\"path\"])\n",
    "\n",
    "    # Create a filled polygon using matplotlib\n",
    "    vertices = []\n",
    "    for segment in path:\n",
    "        vertices.extend([segment.start.real, segment.start.imag])\n",
    "        if hasattr(segment, 'control_points'):\n",
    "            for control_point in segment.control_points:\n",
    "                vertices.extend([control_point.real, control_point.imag])\n",
    "\n",
    "    # Create a matplotlib Path object from the vertices\n",
    "    polygon_path = Path(np.array(vertices).reshape(-1, 2))\n",
    "\n",
    "    # Generate a grid of points covering the whole image\n",
    "    x, y = np.meshgrid(np.arange(0, image_width), np.arange(0, image_height))\n",
    "    points = np.column_stack((x.ravel(), y.ravel()))\n",
    "\n",
    "    # Check if each point is inside the polygon\n",
    "    is_inside = polygon_path.contains_points(points)\n",
    "\n",
    "    # Reshape the result back into the 2D shape\n",
    "    mask = is_inside.reshape(image_height, image_width).astype(int)\n",
    "    \n",
    "    # Set the class value for the pixels inside the polygon\n",
    "    mask[mask == 1] = mask_class\n",
    "\n",
    "    return mask\n",
    "\n",
    "svg_data = {\n",
    "    'path': 'M821.1774193548387,1184.532258064516L833.5645161290323,1073.0483870967741L878.983870967742,990.4677419354839L965.6935483870968,899.6290322580645L1097.8225806451612,817.0483870967741L1271.241935483871,767.5L1424.016129032258,759.241935483871L1514.8548387096773,792.2741935483871L1560.274193548387,837.6935483870968L1646.983870967742,1019.3709677419355L1766.725806451613,1415.758064516129L1820.4032258064517,1675.8870967741937L1816.274193548387,1803.8870967741937L1791.5,1832.7903225806451L1684.1451612903227,1857.5645161290322L1506.5967741935483,1865.8225806451612L1060.6612903225807,1861.6935483870968L870.7258064516129,1841.0483870967741L779.8870967741935,1808.016129032258L713.8225806451613,1766.725806451613L643.6290322580645,1675.8870967741937L676.6612903225806,1568.532258064516L713.8225806451613,1531.3709677419354L878.983870967742,1494.2096774193549L1110.2096774193549,1494.2096774193549L1151.5,1469.4354838709678L1242.3387096774193,1357.9516129032259L1390.983870967742,1242.3387096774193L1395.1129032258063,1217.5645161290322Z'\n",
    "}\n",
    "image_width, image_height = 2560, 2560\n",
    "mask_class = 2\n",
    "\n",
    "mask = closed_path_to_array(svg_data, image_width, image_height, mask_class)\n",
    "\n",
    "# Display the image\n",
    "import matplotlib.pyplot as plt\n",
    "plt.imshow(mask, cmap='gray')\n",
    "plt.show()"
   ]
  },
  {
   "cell_type": "code",
   "execution_count": 5,
   "metadata": {},
   "outputs": [
    {
     "data": {
      "image/png": "[encoded data removed]",
      "text/plain": [
       "<Figure size 640x480 with 1 Axes>"
      ]
     },
     "metadata": {},
     "output_type": "display_data"
    }
   ],
   "source": [
    "import numpy as np\n",
    "import matplotlib.pyplot as plt\n",
    "from svgpathtools import parse_path\n",
    "\n",
    "def opened_path_to_array(svg_data, image_width, image_height, svg_class):\n",
    "    path_data = svg_data['path']\n",
    "    path = parse_path(path_data)\n",
    "    \n",
    "    # Create an empty image\n",
    "    mask = np.zeros((image_width, image_height), dtype=np.uint8)\n",
    "    \n",
    "    # Convert SVG path to points and draw on the image\n",
    "    for curve in path:\n",
    "        for t in np.linspace(0, 1, 1000):\n",
    "            x, y = curve.point(t).real, curve.point(t).imag\n",
    "            x = max(min(int(x), image_width - 1), 0)\n",
    "            y = max(min(int(y), image_height - 1), 0)\n",
    "            mask[y, x] = svg_class\n",
    "    return mask\n",
    "\n",
    "svg_data = {\n",
    "    'path': 'M945.0483870967741,1011.1129032258065L825.3064516129032,895.5L730.3387096774194,750.983870967742L689.0483870967741,660.1451612903226L668.4032258064516,581.6935483870968L668.4032258064516,523.8870967741935L697.3064516129032,490.85483870967744L759.241935483871,461.9516129032258L862.4677419354839,441.30645161290323L1201.0483870967741,424.7903225806452L1390.983870967742,437.1774193548387L1713.0483870967741,490.85483870967744L1886.467741935484,552.7903225806451L1936.016129032258,602.3387096774194L1936.016129032258,705.5645161290323L1849.3064516129032,969.8225806451613L1824.532258064516,1097.8225806451612L1803.8870967741937,1386.8548387096773L1803.8870967741937,1626.3387096774193L1783.241935483871,1746.0806451612902L1713.0483870967741,1770.8548387096773L1518.983870967742,1766.725806451613L912.016129032258,1667.6290322580646L1002.8548387096774,1741.9516129032259L1110.2096774193549,1923.6290322580646L1205.1774193548388,2039.241935483871L1267.1129032258063,2088.7903225806454L1333.1774193548388,2121.8225806451615L1407.5,2142.467741935484L1576.7903225806451,2150.7258064516127L1762.5967741935483,2113.564516129032L1836.9193548387098,2088.7903225806454L1940.1451612903227,2018.5967741935483L2018.5967741935483,1927.758064516129L2088.7903225806454,1808.016129032258L2150.7258064516127,1638.725806451613'\n",
    "}\n",
    "image_width, image_height = 2560, 2560\n",
    "mask_class = 1\n",
    "\n",
    "mask = opened_path_to_array(svg_data, image_width, image_height, mask_class)\n",
    "\n",
    "# Display the image\n",
    "import matplotlib.pyplot as plt\n",
    "plt.imshow(mask, cmap='gray')\n",
    "plt.show()"
   ]
  },
  {
   "cell_type": "code",
   "execution_count": 6,
   "metadata": {},
   "outputs": [],
   "source": [
    "annotation_data = {'dragmode': 'drawcircle', 'visible': True, 'annotations': {'0': [{'editable': True, 'label': {'text': '', 'texttemplate': ''}, 'xref': 'x', 'yref': 'y', 'layer': 'above', 'opacity': 1, 'line': {'color': 'rgba(240, 62, 62, 0.3)', 'width': 5, 'dash': 'solid'}, 'type': 'path', 'path': 'M614.7258064516129,441.30645161290323L684.9193548387096,503.241935483871L862.4677419354839,635.3709677419355L1002.8548387096774,812.9193548387096'}, {'editable': True, 'label': {'text': '', 'texttemplate': ''}, 'xref': 'x', 'yref': 'y', 'layer': 'above', 'opacity': 1, 'line': {'color': '#ae3ec9', 'width': 5, 'dash': 'solid'}, 'fillcolor': 'rgba(174, 62, 201, 0.3)', 'fillrule': 'evenodd', 'type': 'path', 'path': 'M631.241935483871,1114.3387096774193L664.2741935483871,1122.5967741935483L883.1129032258065,1341.4354838709678L920.2741935483871,1411.6290322580646L912.016129032258,1481.8225806451612L767.5,1622.2096774193549L668.4032258064516,1692.4032258064517L536.2741935483871,1680.016129032258L445.43548387096774,1659.3709677419354L296.7903225806452,1490.0806451612902L276.14516129032256,1403.3709677419354L284.4032258064516,1238.2096774193549L280.2741935483871,1213.4354838709678Z'}, {'editable': True, 'label': {'text': '', 'texttemplate': ''}, 'xref': 'x', 'yref': 'y', 'layer': 'above', 'opacity': 1, 'line': {'color': '#7048e8', 'width': 5, 'dash': 'solid'}, 'fillcolor': 'rgba(112, 72, 232, 0.3)', 'fillrule': 'evenodd', 'type': 'circle', 'x0': 1986.960521771868, 'y0': 852.7719633160631, 'x1': 1216.1685104861965, 'y1': -11.449382670901628}, {'editable': True, 'label': {'text': '', 'texttemplate': ''}, 'xref': 'x', 'yref': 'y', 'layer': 'above', 'opacity': 1, 'line': {'color': '#1c7ed6', 'width': 5, 'dash': 'solid'}, 'fillcolor': 'rgba(28, 126, 214, 0.3)', 'fillrule': 'evenodd', 'type': 'rect', 'x0': 1572.6612903225807, 'y0': 1184.532258064516, 'x1': 2059.8870967741937, 'y1': 1498.3387096774193}, {'editable': True, 'label': {'text': '', 'texttemplate': ''}, 'xref': 'x', 'yref': 'y', 'layer': 'above', 'opacity': 1, 'line': {'color': '#f59f00', 'width': 5, 'dash': 'solid'}, 'type': 'line', 'x0': 1201.0483870967741, 'y0': 1465.3064516129032, 'x1': 1457.0483870967741, 'y1': 2014.467741935484}], '1': [{'editable': True, 'label': {'text': '', 'texttemplate': ''}, 'xref': 'x', 'yref': 'y', 'layer': 'above', 'opacity': 1, 'line': {'color': 'rgba(245, 159, 0, 0.3)', 'width': 5, 'dash': 'solid'}, 'fillcolor': 'rgba(245, 159, 0, 0.3)', 'fillrule': 'evenodd', 'type': 'circle', 'x0': 1591.7975367139343, 'y0': 1575.1095137551001, 'x1': 248.75085038283976, 'y1': 430.600163664255}]}, 'image_shapes': [[2560, 2560], [2560, 2560], [965, 965], [480, 640]]}"
   ]
  },
  {
   "cell_type": "code",
   "execution_count": 7,
   "metadata": {},
   "outputs": [],
   "source": [
    "annotation_data = {'dragmode': 'drawopenpath', 'visible': True, 'annotations': {'0': [{'editable': True, 'label': {'text': '', 'texttemplate': ''}, 'xref': 'x', 'yref': 'y', 'layer': 'above', 'opacity': 1, 'line': {'color': 'rgba(240, 62, 62, 0.3)', 'width': 5, 'dash': 'solid'}, 'fillcolor': 'rgba(240, 62, 62, 0.3)', 'fillrule': 'evenodd', 'type': 'path', 'path': 'M736.305952795049,2102.7114871206554L669.4226260712832,2030.2545498365757L580.244857106262,1879.7670647081025L546.8031937443791,1818.4573485446506L463.1990353396717,1729.2795795796294L429.75737197778875,1623.3809789336667L379.59487693496436,1472.8934938051934L385.16848749527816,1344.7004509179756L524.5087515031238,932.2532694547526L658.2754049506556,748.3241209643963L753.0267844759906,692.5880153612582L1014.9864808107403,653.5727414390614L1282.5197877058038,653.5727414390614L1472.022546756474,692.5880153612582L1689.3933586087132,798.4866160072208L1784.144738134048,882.0907744119281L1878.8961176593832,1010.2838172991461L1929.0586127022077,1238.8018502720129L1968.0738866244044,1545.3504310892731L1890.0433387800108,1640.1018106146082L1767.4239064531068,1846.3254013462197L1700.5405797293408,1924.355949190613L1522.1850417992985,2058.122602638145L1304.8142299470592,2158.4475927237936L1182.194797620155,2175.168424404735L998.2656491297988,2175.168424404735L847.7781640013255,2136.1531504825384L775.3212267172458,2108.2850976809696Z'}, {'editable': True, 'label': {'text': '', 'texttemplate': ''}, 'xref': 'x', 'yref': 'y', 'layer': 'above', 'opacity': 1, 'line': {'color': '#ae3ec9', 'width': 5, 'dash': 'solid'}, 'fillcolor': 'rgba(174, 62, 201, 0.3)', 'fillrule': 'evenodd', 'type': 'path', 'path': 'M2168.723866795702,1567.6448733305283L2157.5766456750744,1322.4060086767204L2196.591919597271,1322.4060086767204L2224.4599723988404,1383.7157248401722L2213.3127512782125,1372.5685037195447L2196.591919597271,1523.0559888480177Z'}, {'editable': True, 'label': {'text': '', 'texttemplate': ''}, 'xref': 'x', 'yref': 'y', 'layer': 'above', 'opacity': 1, 'line': {'color': '#ae3ec9', 'width': 5, 'dash': 'solid'}, 'fillcolor': 'rgba(174, 62, 201, 0.3)', 'fillrule': 'evenodd', 'type': 'path', 'path': 'M2023.8099922275426,1171.918523548247L1968.0738866244044,1116.1824179451087L1945.7794443831492,1049.299091221343L1995.9419394259735,1054.8727017816568L2046.104434468798,1116.1824179451087L2034.9572133481704,1132.9032496260502Z'}, {'editable': True, 'label': {'text': '', 'texttemplate': ''}, 'xref': 'x', 'yref': 'y', 'layer': 'above', 'opacity': 1, 'line': {'color': '#1c7ed6', 'width': 5, 'dash': 'solid'}, 'type': 'line', 'x0': 669.4226260712832, 'y0': 2085.990655439714, 'x1': 825.4837217600702, 'y1': 2320.0822989728945}, {'editable': True, 'label': {'text': '', 'texttemplate': ''}, 'xref': 'x', 'yref': 'y', 'layer': 'above', 'opacity': 1, 'line': {'color': '#1c7ed6', 'width': 5, 'dash': 'solid'}, 'type': 'line', 'x0': 1070.7225864138786, 'y0': 2230.9045300078733, 'x1': 1438.5808833945912, 'y1': 2230.9045300078733}, {'editable': True, 'label': {'text': '', 'texttemplate': ''}, 'xref': 'x', 'yref': 'y', 'layer': 'above', 'opacity': 1, 'line': {'color': '#1c7ed6', 'width': 5, 'dash': 'solid'}, 'type': 'line', 'x0': 552.3768043046929, 'y0': 765.0449526453378, 'x1': 680.5698471919109, 'y1': 765.0449526453378}, {'editable': True, 'label': {'text': '', 'texttemplate': ''}, 'xref': 'x', 'yref': 'y', 'layer': 'above', 'opacity': 1, 'line': {'color': '#1c7ed6', 'width': 5, 'dash': 'solid'}, 'type': 'line', 'x0': 847.7781640013255, 'y0': 592.2630252756093, 'x1': 741.879563355363, 'y1': 659.1463519993752}]}, 'image_shapes': [[2560, 2560], [2560, 2560], [965, 965], [480, 640]]}"
   ]
  },
  {
   "cell_type": "code",
   "execution_count": 14,
   "metadata": {},
   "outputs": [
    {
     "name": "stdout",
     "output_type": "stream",
     "text": [
      "Closed Freeform\n",
      "Closed Freeform\n",
      "Closed Freeform\n",
      "Line\n",
      "Line\n",
      "Line\n",
      "Line\n"
     ]
    },
    {
     "data": {
      "image/png": "[encoded data removed]",
      "text/plain": [
       "<Figure size 640x480 with 1 Axes>"
      ]
     },
     "metadata": {},
     "output_type": "display_data"
    }
   ],
   "source": [
    "import scipy.sparse as sp\n",
    "\n",
    "sparse = True\n",
    "\n",
    "map_color_to_class = {\n",
    "    \"rgba(240, 62, 62, 0.3)\": 1,\n",
    "    \"#ae3ec9\": 2,\n",
    "    \"#7048e8\": 3,\n",
    "    \"#1c7ed6\": 4,\n",
    "    \"#f59f00\": 5,\n",
    "    \"rgba(245, 159, 0, 0.3)\": 6\n",
    "}\n",
    "\n",
    "def get_annotation_type(annotation):\n",
    "    \"\"\"\n",
    "    This function returns readable annotation type name.\n",
    "    \"\"\"\n",
    "    annotation_type = annotation[\"type\"]\n",
    "\n",
    "    if annotation_type == \"path\" and \"fillrule\" in annotation:\n",
    "        annot = \"Closed Freeform\"\n",
    "    elif annotation_type == \"path\":\n",
    "        annot = \"Freeform\"\n",
    "    elif annotation_type == \"rect\":\n",
    "        annot = \"Rectangle\"\n",
    "    elif annotation_type == \"circle\":\n",
    "        annot = \"Ellipse\"\n",
    "    elif annotation_type == \"line\":\n",
    "        annot = \"Line\"\n",
    "    else:\n",
    "        annot = \"Unknown\"\n",
    "\n",
    "    return annot\n",
    "\n",
    "project_masks = []\n",
    "for key, slice_data in annotation_data[\"annotations\"].items():\n",
    "    image_width, image_height = annotation_data[\"image_shapes\"][0]\n",
    "    slice_mask = np.zeros([image_width, image_height], dtype=np.uint8)\n",
    "    for shape in slice_data:\n",
    "        mask_class = map_color_to_class[shape[\"line\"][\"color\"]]\n",
    "        shape_type = get_annotation_type(shape)\n",
    "        print(shape_type)\n",
    "        if shape_type == \"Closed Freeform\":\n",
    "            shape_mask = closed_path_to_array(shape, image_width, image_height, mask_class)\n",
    "        elif shape_type == \"Freeform\":\n",
    "            shape_mask = opened_path_to_array(shape, image_width, image_height, mask_class)\n",
    "        elif shape_type == \"Rectangle\":\n",
    "            shape_mask = rectangle_to_array(shape, image_width, image_height, mask_class)\n",
    "        elif shape_type == \"Ellipse\":\n",
    "            shape_mask = ellipse_to_array(shape, image_width, image_height, mask_class)\n",
    "        elif shape_type == \"Line\":\n",
    "            shape_mask = line_to_array(shape, image_width, image_height, mask_class)\n",
    "        else:\n",
    "            continue\n",
    "        slice_mask[shape_mask > 0] = shape_mask[shape_mask > 0]\n",
    "        # slice_mask = np.where(shape_mask==-1, shape_mask, shape_mask)\n",
    "    project_masks.append(slice_mask)\n",
    "\n",
    "if sparse:\n",
    "    for idx, msk in enumerate(project_masks):\n",
    "        project_masks[idx] = sp.csr_array(msk)\n",
    "# save masks to napari-compatible file\n",
    "np.save('project_masks.npy', project_masks)\n",
    "\n",
    "# Display the image\n",
    "import matplotlib.pyplot as plt\n",
    "first_slice_mask = project_masks[0]\n",
    "if sparse:\n",
    "    first_slice_mask = first_slice_mask.toarray()\n",
    "plt.imshow(first_slice_mask, cmap='gray')\n",
    "plt.show()"
   ]
  }
 ],
 "metadata": {
  "kernelspec": {
   "display_name": "mlex_dash_segmentation_demo",
   "language": "python",
   "name": "python3"
  },
  "language_info": {
   "codemirror_mode": {
    "name": "ipython",
    "version": 3
   },
   "file_extension": ".py",
   "mimetype": "text/x-python",
   "name": "python",
   "nbconvert_exporter": "python",
   "pygments_lexer": "ipython3",
   "version": "3.9.0"
  },
  "orig_nbformat": 4
 },
 "nbformat": 4,
 "nbformat_minor": 2
}
