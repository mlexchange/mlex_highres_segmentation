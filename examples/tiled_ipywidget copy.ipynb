{
 "cells": [
  {
   "cell_type": "code",
   "execution_count": 1,
   "metadata": {},
   "outputs": [],
   "source": [
    "import ipywidgets as widgets\n",
    "import traceback\n"
   ]
  },
  {
   "cell_type": "markdown",
   "metadata": {},
   "source": [
    "TILED HELPER FUNCTIONS"
   ]
  },
  {
   "cell_type": "code",
   "execution_count": 2,
   "metadata": {},
   "outputs": [],
   "source": [
    "from tiled.client import from_uri"
   ]
  },
  {
   "cell_type": "code",
   "execution_count": null,
   "metadata": {},
   "outputs": [],
   "source": [
    "\"\"\"\n",
    "    Variables to be declared at first\n",
    "    tiled_base_uri - base uri\n",
    "    additional_string_tiled_uri - the add on path to the base_uri, depends on file structure\n",
    "    metadata_field - the field to extract\n",
    "\"\"\"\n",
    "tiled_base_uri = \"http://127.0.0.1:8000\"\n",
    "additional_string_tiled_uri = \"writable\"\n",
    "metadata_filed = \"job_name\""
   ]
  },
  {
   "cell_type": "code",
   "execution_count": 13,
   "metadata": {},
   "outputs": [],
   "source": [
    "# Gets the metadata entry in the dropdown for each scan with the tiled_uri for that scan\n",
    "# In segmentation case, it gets job_name value and segmentation uri as (key,value) pairs\n",
    "def get_tiled_uri_metadata_field_entries(base_uri, uri_additional, metadata_field):\n",
    "    \"\"\"\n",
    "    base_uri - str, tiled base uri (ex: looks like http://127.0.0.1:8888)\n",
    "    uri_additional - str, the add on path to the base_uri (ex: could be something like \"node_name_1\" or \"\" \n",
    "                    based on your file structure)\n",
    "    metadata_field - str, the field to extract\n",
    "    \"\"\"\n",
    "    try:\n",
    "        full_tiled_uri = base_uri+\"/api/v1/metadata/\"+uri_additional\n",
    "        client = from_uri(full_tiled_uri)\n",
    "        dropdown_list = []\n",
    "\n",
    "        for experiment in client:\n",
    "            if \"seg_result\" in client[experiment]:\n",
    "                child_node_client = client[experiment][\"seg_result\"]\n",
    "                scan_uri = child_node_client.uri\n",
    "                metadata = child_node_client.metadata\n",
    "                metadata_field_entry = metadata[metadata_field]\n",
    "                dropdown_list.append((metadata_field_entry,scan_uri))\n",
    "            \n",
    "        return dropdown_list\n",
    "\n",
    "    except Exception as e:\n",
    "        error_message = f\"Error retrieving experiment names: {e} due to {traceback.format_exc()}\"\n",
    "        print(error_message)\n",
    "        return []"
   ]
  },
  {
   "cell_type": "code",
   "execution_count": 14,
   "metadata": {},
   "outputs": [],
   "source": [
    "def tiled_widget_refresh_callback(dropdown_widget):\n",
    "    # should be the same string as the next cell, because the refresh fetches the same tiled uri\n",
    "    new_list_experiments = get_tiled_uri_metadata_field_entries(tiled_base_uri,additional_string_tiled_uri,metadata_filed)\n",
    "    dropdown_widget.options = new_list_experiments\n",
    "    dropdown_widget.value = None"
   ]
  },
  {
   "cell_type": "code",
   "execution_count": null,
   "metadata": {},
   "outputs": [],
   "source": [
    "scan_uri_metadata_tuples = get_tiled_uri_metadata_field_entries(tiled_base_uri,additional_string_tiled_uri,metadata_filed)\n",
    "\n",
    "tiled_file_widget = widgets.Dropdown(\n",
    "    options=scan_uri_metadata_tuples,\n",
    "    value=None,\n",
    "    description='Experiment name:',\n",
    ")\n",
    "\n",
    "tiled_widget_refresh_button = widgets.Button(description=\"Refresh\")\n",
    "\n",
    "widget_box = widgets.HBox([tiled_file_widget, tiled_widget_refresh_button])\n",
    "\n",
    "display(widget_box)\n",
    "\n",
    "def tiled_refresh_button_click(button):\n",
    "    tiled_widget_refresh_callback(tiled_file_widget)\n",
    "\n",
    "tiled_widget_refresh_button.on_click(tiled_refresh_button_click)\n"
   ]
  },
  {
   "cell_type": "code",
   "execution_count": null,
   "metadata": {},
   "outputs": [],
   "source": [
    "tiled_file_widget.value"
   ]
  },
  {
   "cell_type": "markdown",
   "metadata": {},
   "source": [
    "Plot the segmentation result"
   ]
  },
  {
   "cell_type": "code",
   "execution_count": null,
   "metadata": {},
   "outputs": [],
   "source": [
    "# With the selected job_name in the dropdown, you get the scan_uri\n",
    "# Get the mask uri and plot the classes"
   ]
  },
  {
   "cell_type": "code",
   "execution_count": 17,
   "metadata": {},
   "outputs": [],
   "source": [
    "import matplotlib.pyplot as plt\n",
    "import matplotlib.patches as mpatches\n",
    "from matplotlib.colors import ListedColormap"
   ]
  },
  {
   "cell_type": "code",
   "execution_count": null,
   "metadata": {},
   "outputs": [],
   "source": [
    "\n",
    "def plot_seg_mask(results_uri, slice_idx, axs):\n",
    "    result_client = from_uri(results_uri)\n",
    "    result_client_metadata = result_client.metadata\n",
    "    mask_uri = result_client_metadata[\"mask_uri\"]\n",
    "    mask_uri = mask_uri[:-5]\n",
    "\n",
    "    seg_result = result_client[slice_idx]\n",
    "\n",
    "    # Extract class information \n",
    "    mask_client = from_uri(mask_uri)\n",
    "    mask_client_metadata = mask_client.metadata\n",
    "    class_meta_data = mask_client_metadata[\"classes\"]\n",
    "    max_class_id = len(class_meta_data.keys()) - 1\n",
    "\n",
    "    colors = [\n",
    "        annotation_class[\"color\"] for _, annotation_class in class_meta_data.items()\n",
    "    ]\n",
    "    labels = [\n",
    "        annotation_class[\"label\"] for _, annotation_class in class_meta_data.items()\n",
    "    ]\n",
    "    # Add color for unlabeled pixels\n",
    "    colors = [\"#D3D3D3\"] + colors\n",
    "    labels = [\"Unlabeled\"] + labels\n",
    "\n",
    "    axs.imshow(\n",
    "        seg_result,\n",
    "        cmap=ListedColormap(colors),\n",
    "        vmin=-1.5,\n",
    "        vmax=max_class_id + 0.5,\n",
    "    )\n",
    "    axs.set_title(mask_client_metadata[\"project_name\"] + \", slice: \" + str(slice_idx))\n",
    "\n",
    "    # create a patch for every color\n",
    "    patches = [\n",
    "        mpatches.Patch(color=colors[i], label=labels[i]) for i in range(len(labels))\n",
    "    ]\n",
    "    # Plot legend below the image\n",
    "    axs.legend(\n",
    "        handles=patches, loc=\"upper center\", bbox_to_anchor=(0.5, -0.075), ncol=3\n",
    "    )"
   ]
  },
  {
   "cell_type": "code",
   "execution_count": null,
   "metadata": {},
   "outputs": [],
   "source": [
    "selected_scan_uri = tiled_file_widget.value\n",
    "\n",
    "fig = plt.figure(layout=\"constrained\")\n",
    "ax_array = fig.subplots(2, 2, squeeze=False)\n",
    "\n",
    "plot_seg_mask(selected_scan_uri,0,ax_array[0,0])\n",
    "# plot_seg_mask(selected_scan_uri,1,[0,1])\n",
    "# plot_seg_mask(selected_scan_uri,2,[1,0])\n",
    "# plot_seg_mask(selected_scan_uri,3,[1,1])\n"
   ]
  },
  {
   "cell_type": "code",
   "execution_count": null,
   "metadata": {},
   "outputs": [],
   "source": []
  }
 ],
 "metadata": {
  "kernelspec": {
   "display_name": "dlsia",
   "language": "python",
   "name": "python3"
  },
  "language_info": {
   "codemirror_mode": {
    "name": "ipython",
    "version": 3
   },
   "file_extension": ".py",
   "mimetype": "text/x-python",
   "name": "python",
   "nbconvert_exporter": "python",
   "pygments_lexer": "ipython3",
   "version": "3.11.8"
  }
 },
 "nbformat": 4,
 "nbformat_minor": 2
}
